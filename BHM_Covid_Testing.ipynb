{
 "cells": [
  {
   "cell_type": "markdown",
   "metadata": {},
   "source": [
    "# Code for BHM (2020) and user interface"
   ]
  },
  {
   "cell_type": "markdown",
   "metadata": {},
   "source": [
    "### 1. What does this code do?\n",
    "\n",
    "This code replicates Figure 6 in Berger, Herkenhoff, Mongey (2020) - *An SEIR Infectious Disease Model with Testing and Conditional Quarantine\".\n",
    "\n",
    "To replicate this figure for a number of different rates of testing $\\left(\\tau\\right)$ follow these instructions:\n",
    "1. Scroll down to the first 'cell' below, place cursor inside the cell, then press Ctrl+Enter.\n",
    "    - This will compile some code and present the baseline calibration of the model\n",
    "    - Ignore these if you wish to replicate Figure 6\n",
    "1. Click the button marked **[Run model]**\n",
    "    - The code will take ~45-90s to run the model, and then display **\"Done solving model\"**\n",
    "1. Click the button marked **[Show panel chart]** to display the figure\n",
    "    - Accompanying the figure will be a slider for $\\tau \\in [0,0.05]$ (from zero to 10 times the value used in the paper), that can be moved to change the plot\n",
    "\n",
    "Below we describe other parameters. To change other parameters refresh this page in your browser. Repeat the above and then before pressing **[Run model]**, choose alternative values for model parameters.\n",
    "\n",
    "**To download the underlying code, please follow the link to 'Download underlying model files' at http://www.simonmongey.com, or alternatively access the files at http://www.github.com/simonmongey/covidtesting. This code can be ran, more quickly and offline using Jupyter Notebook**\n",
    "\n",
    "### 2. What can I change?\n",
    "\n",
    "- There are two sets of parameters that the user can change\n",
    "\n",
    "#### 2.1 Preset parameters\n",
    "\n",
    "The first set appear in Table 4 of the paper, and below are divided into three blocks\n",
    "1. **Quarantine parameters**\n",
    "    - $\\xi^u\\geq 0$ \n",
    "        - Baseline rate of quarantine that is used in the *Common quarantine* case\n",
    "    - $\\lambda^Q/\\lambda\\in[0,1]$ \n",
    "        - Effectiveness of quarantine. If equal to 1, then quarantine has no effect. We suggest in the paper that for Wuhan this is around 0.10, and use 0.50 as our baseline for counterfacutals\n",
    "    - $A_{rel}\\in[0,1]$ \n",
    "        - Relative productivity of asymptomatic quarantined individuals to asymptomatic non-quarantined individuals. \n",
    "             $$ Y_t = M_t^{A,NQ} + A_{rel}\\times M_t^{A,Q} $$\n",
    "        - If this is lower, then *Common quarantine* policy will lead to larger declines in output relative to *Targeted quarantine* policies.\n",
    "1. **Disease parameters**\n",
    "    - Number of initial infections in the US population\n",
    "    - $\\pi^D$ \n",
    "        - Rate at which *symptomatic* individuals die from the virus.\n",
    "1. **Timing parameters**\n",
    "    - Date of vaccine - In the paper we set this to 500 days\n",
    "    - $1/\\delta$\n",
    "        - Gives the number of days that it takes, on average, to show symptoms once infected with the virus\n",
    "    - $1/\\omega^R$\n",
    "        - Gives the number of days that it takes, on average, to recover from the virus\n",
    "1. **Contagion parameters**\n",
    "    - $R_0$\n",
    "        - This is the baseline transmission rate. In the code $\\rho^S$---the probability of infection conditional on meeting---is chosen to imply this level of $R_0$\n",
    "   - $\\rho^A/\\rho^S$\n",
    "        - This is measures the relative infectiousness of asymptomatic individuals. A meeting with a symptomatic individual results in infection with probability $\\rho^S$. If $\\rho^A/\\rho^S=0.5$, then half as many meetings with asymptomatic individuals result in infection. In the paper we simply set this to 1.\n",
    "    \n",
    "#### 2.2 Policy parameters\n",
    "\n",
    "The second set appear in Tables 5 and 6 of the paper, these are the very simply 'policy parameters' $\\tau\\geq 0$ and $\\Delta\\in[0,1]$ which represent the rate of daily testing and the slackening of quarantine measures that we use to construct our counterfactual.\n",
    "\n",
    "- Chooses one of the two parameters to *Slide over*\n",
    "- Set the range for the other parameter. \n",
    "    - When sliding over $\\Delta$, the *upper value* is always 1, which represents no slackening of quarantine. User then chooses the *lower bound*.\n",
    "    - When sliding over $\\tau$, the *lower value* is always 1, which represents no testing. User then chooses the *upper bound*.\n",
    "    - In both cases the grid of parameters that are considered is evenly spaced and has 10 points.\n",
    "- Proceed as above: Click **[Run model]**, wait until it displays **\"Done solving model\"**, then click **[Show panel chart]**"
   ]
  },
  {
   "cell_type": "code",
   "execution_count": 2,
   "metadata": {},
   "outputs": [
    {
     "data": {
      "application/javascript": [
       "Jupyter.notebook.execute_cells([3,4,5,6])"
      ],
      "text/plain": [
       "<IPython.core.display.Javascript object>"
      ]
     },
     "execution_count": 2,
     "metadata": {},
     "output_type": "execute_result"
    }
   ],
   "source": [
    "#~~~~~~~~~~~~~~~~~~~~~~~~~~~~~~~~~~~~~~~~~~~~~~~~~~~~~~~~~~~~~~~~~~~~~~~~~~~~~~~~~~\n",
    "# INSTRUCTIONS: Click to place cursor in this box, and then press Ctrl+Enter\n",
    "#~~~~~~~~~~~~~~~~~~~~~~~~~~~~~~~~~~~~~~~~~~~~~~~~~~~~~~~~~~~~~~~~~~~~~~~~~~~~~~~~~~\n",
    "\n",
    "from IPython.display import Javascript\n",
    "Javascript(\"Jupyter.notebook.execute_cells([3,4,5,6])\")"
   ]
  },
  {
   "cell_type": "code",
   "execution_count": 3,
   "metadata": {},
   "outputs": [],
   "source": [
    "from model_code import *\n",
    "from jupyterWidgets import *"
   ]
  },
  {
   "cell_type": "code",
   "execution_count": 4,
   "metadata": {},
   "outputs": [
    {
     "data": {
      "text/html": [
       "<script>\n",
       "code_show=true; \n",
       "function code_toggle() {\n",
       " if (code_show){\n",
       " $('div.input').hide();\n",
       " } else {\n",
       " $('div.input').show();\n",
       " }\n",
       " code_show = !code_show\n",
       "} \n",
       "$( document ).ready(code_toggle);\n",
       "</script>\n",
       "<form action=\"javascript:code_toggle()\"><input type=\"submit\" value=\"Click here to switch on/off the raw code\"></form>"
      ],
      "text/plain": [
       "<IPython.core.display.HTML object>"
      ]
     },
     "execution_count": 4,
     "metadata": {},
     "output_type": "execute_result"
    }
   ],
   "source": [
    "# Toggle on/off the raw code\n",
    "from IPython.display import HTML\n",
    "\n",
    "HTML('''<script>\n",
    "code_show=true; \n",
    "function code_toggle() {\n",
    " if (code_show){\n",
    " $('div.input').hide();\n",
    " } else {\n",
    " $('div.input').show();\n",
    " }\n",
    " code_show = !code_show\n",
    "} \n",
    "$( document ).ready(code_toggle);\n",
    "</script>\n",
    "<form action=\"javascript:code_toggle()\"><input type=\"submit\" value=\"Click here to switch on/off the raw code\"></form>''')"
   ]
  },
  {
   "cell_type": "code",
   "execution_count": 5,
   "metadata": {},
   "outputs": [
    {
     "data": {
      "application/vnd.jupyter.widget-view+json": {
       "model_id": "3480fa92a24449ea9b8f40b609c9844b",
       "version_major": 2,
       "version_minor": 0
      },
      "text/plain": [
       "VBox(children=(HBox(children=(VBox(children=(Label(value='1. Quarantine parameters'), BoundedFloatText(value=0…"
      ]
     },
     "metadata": {},
     "output_type": "display_data"
    }
   ],
   "source": [
    "display(paramsPanel)"
   ]
  },
  {
   "cell_type": "code",
   "execution_count": 6,
   "metadata": {},
   "outputs": [
    {
     "data": {
      "application/vnd.jupyter.widget-view+json": {
       "model_id": "e1c234d8f4a94211b813a9290895e470",
       "version_major": 2,
       "version_minor": 0
      },
      "text/plain": [
       "VBox(children=(Label(value='Execute Model'), Button(description='Run model', style=ButtonStyle()), Button(desc…"
      ]
     },
     "metadata": {},
     "output_type": "display_data"
    },
    {
     "name": "stdout",
     "output_type": "stream",
     "text": [
      "Solving the model...\n"
     ]
    },
    {
     "data": {
      "application/javascript": [
       "Jupyter.notebook.execute_cells([7])"
      ],
      "text/plain": [
       "<IPython.core.display.Javascript object>"
      ]
     },
     "metadata": {},
     "output_type": "display_data"
    }
   ],
   "source": [
    "display(run_box)"
   ]
  },
  {
   "cell_type": "code",
   "execution_count": 7,
   "metadata": {
    "scrolled": false
   },
   "outputs": [
    {
     "ename": "IndexError",
     "evalue": "index 15 is out of bounds for axis 0 with size 15",
     "output_type": "error",
     "traceback": [
      "\u001b[0;31m---------------------------------------------------------------------------\u001b[0m",
      "\u001b[0;31mIndexError\u001b[0m                                Traceback (most recent call last)",
      "\u001b[0;32m<ipython-input-7-41af59dab212>\u001b[0m in \u001b[0;36m<module>\u001b[0;34m\u001b[0m\n\u001b[1;32m      4\u001b[0m     f = generate_plots(Δ.value, τ_list, test_sens, test_spec, ξ_base.value, A_rel.value, d_vaccine.value*14+3*14, \\\n\u001b[1;32m      5\u001b[0m                      \u001b[0mrel_ρ\u001b[0m\u001b[0;34m.\u001b[0m\u001b[0mvalue\u001b[0m\u001b[0;34m,\u001b[0m \u001b[0mδ_param\u001b[0m\u001b[0;34m.\u001b[0m\u001b[0mvalue\u001b[0m\u001b[0;34m,\u001b[0m \u001b[0mωR_param\u001b[0m\u001b[0;34m.\u001b[0m\u001b[0mvalue\u001b[0m\u001b[0;34m,\u001b[0m \u001b[0mπ_D\u001b[0m\u001b[0;34m.\u001b[0m\u001b[0mvalue\u001b[0m\u001b[0;34m,\u001b[0m\u001b[0;31m \u001b[0m\u001b[0;31m\\\u001b[0m\u001b[0;34m\u001b[0m\u001b[0;34m\u001b[0m\u001b[0m\n\u001b[0;32m----> 6\u001b[0;31m                      R_0.value, rel_λ.value, initial_infect.value, slide_var.value)\n\u001b[0m\u001b[1;32m      7\u001b[0m \u001b[0;32melif\u001b[0m \u001b[0mslide_var\u001b[0m\u001b[0;34m.\u001b[0m\u001b[0mvalue\u001b[0m \u001b[0;34m==\u001b[0m \u001b[0;36m2\u001b[0m\u001b[0;34m:\u001b[0m\u001b[0;34m\u001b[0m\u001b[0;34m\u001b[0m\u001b[0m\n\u001b[1;32m      8\u001b[0m     f = generate_plots(Δ_list, τ.value, test_sens, test_spec, ξ_base.value, A_rel.value, d_vaccine.value*14+3*14, \\\n",
      "\u001b[0;32m~/Work/Epidemic control/BHM_Covid_Testing/model_code.py\u001b[0m in \u001b[0;36mgenerate_plots\u001b[0;34m(Δ, τ, test_sens, test_spec, ξ_base, A_rel, d_vaccine, rel_ρ, δ_param, ωR_param, π_D, R_0, rel_λ, initial_infect, slide_var)\u001b[0m\n\u001b[1;32m    403\u001b[0m                  ωR_param, π_D, R_0, rel_λ, initial_infect)\n\u001b[1;32m    404\u001b[0m \u001b[0;34m\u001b[0m\u001b[0m\n\u001b[0;32m--> 405\u001b[0;31m     \u001b[0mReported_D_com\u001b[0m\u001b[0;34m,\u001b[0m \u001b[0mInfected_D_com\u001b[0m\u001b[0;34m,\u001b[0m \u001b[0mDead_D_com\u001b[0m\u001b[0;34m,\u001b[0m \u001b[0mY_D_com\u001b[0m \u001b[0;34m=\u001b[0m \u001b[0mmodel\u001b[0m\u001b[0;34m.\u001b[0m\u001b[0msolve_model\u001b[0m\u001b[0;34m(\u001b[0m\u001b[0;34m)\u001b[0m\u001b[0;34m\u001b[0m\u001b[0;34m\u001b[0m\u001b[0m\n\u001b[0m\u001b[1;32m    406\u001b[0m \u001b[0;34m\u001b[0m\u001b[0m\n\u001b[1;32m    407\u001b[0m     \u001b[0mrmin\u001b[0m \u001b[0;34m=\u001b[0m \u001b[0mmin\u001b[0m\u001b[0;34m(\u001b[0m\u001b[0mrmin\u001b[0m\u001b[0;34m,\u001b[0m \u001b[0mnp\u001b[0m\u001b[0;34m.\u001b[0m\u001b[0mmin\u001b[0m\u001b[0;34m(\u001b[0m\u001b[0mReported_D_com\u001b[0m\u001b[0;34m)\u001b[0m \u001b[0;34m*\u001b[0m \u001b[0;36m1.2\u001b[0m\u001b[0;34m)\u001b[0m\u001b[0;34m\u001b[0m\u001b[0;34m\u001b[0m\u001b[0m\n",
      "\u001b[0;32m~/Work/Epidemic control/BHM_Covid_Testing/model_code.py\u001b[0m in \u001b[0;36msolve_model\u001b[0;34m(self)\u001b[0m\n\u001b[1;32m    326\u001b[0m         \u001b[0mReported_D_base\u001b[0m\u001b[0;34m,\u001b[0m \u001b[0mNotinfected_D_base\u001b[0m\u001b[0;34m,\u001b[0m \u001b[0mUnreported_D_base\u001b[0m\u001b[0;34m,\u001b[0m \u001b[0mInfected_D_base\u001b[0m\u001b[0;34m,\u001b[0m\u001b[0;31m \u001b[0m\u001b[0;31m\\\u001b[0m\u001b[0;34m\u001b[0m\u001b[0;34m\u001b[0m\u001b[0m\n\u001b[1;32m    327\u001b[0m                 \u001b[0mRecovered_D_base\u001b[0m\u001b[0;34m,\u001b[0m \u001b[0mDead_D_base\u001b[0m\u001b[0;34m,\u001b[0m \u001b[0mInfected_T_base\u001b[0m\u001b[0;34m,\u001b[0m \u001b[0mY_D_base\u001b[0m\u001b[0;34m,\u001b[0m \u001b[0mM_t_base\u001b[0m \u001b[0;34m=\u001b[0m\u001b[0;31m \u001b[0m\u001b[0;31m\\\u001b[0m\u001b[0;34m\u001b[0m\u001b[0;34m\u001b[0m\u001b[0m\n\u001b[0;32m--> 328\u001b[0;31m                 \u001b[0mself\u001b[0m\u001b[0;34m.\u001b[0m\u001b[0msolve_case\u001b[0m\u001b[0;34m(\u001b[0m\u001b[0mself\u001b[0m\u001b[0;34m.\u001b[0m\u001b[0mbaseline\u001b[0m\u001b[0;34m)\u001b[0m\u001b[0;34m\u001b[0m\u001b[0;34m\u001b[0m\u001b[0m\n\u001b[0m\u001b[1;32m    329\u001b[0m         \u001b[0mTstar\u001b[0m \u001b[0;34m=\u001b[0m \u001b[0mnp\u001b[0m\u001b[0;34m.\u001b[0m\u001b[0margwhere\u001b[0m\u001b[0;34m(\u001b[0m\u001b[0mReported_D_base\u001b[0m\u001b[0;34m>\u001b[0m\u001b[0;36m100\u001b[0m\u001b[0;34m)\u001b[0m\u001b[0;34m[\u001b[0m\u001b[0;36m0\u001b[0m\u001b[0;34m]\u001b[0m\u001b[0;34m[\u001b[0m\u001b[0;36m0\u001b[0m\u001b[0;34m]\u001b[0m\u001b[0;34m\u001b[0m\u001b[0;34m\u001b[0m\u001b[0m\n\u001b[1;32m    330\u001b[0m         \u001b[0mYearsPlot\u001b[0m \u001b[0;34m=\u001b[0m \u001b[0;36m3\u001b[0m\u001b[0;34m\u001b[0m\u001b[0;34m\u001b[0m\u001b[0m\n",
      "\u001b[0;32m~/Work/Epidemic control/BHM_Covid_Testing/model_code.py\u001b[0m in \u001b[0;36msolve_case\u001b[0;34m(self, model)\u001b[0m\n\u001b[1;32m    120\u001b[0m             \u001b[0mMt\u001b[0m \u001b[0;34m=\u001b[0m \u001b[0mM_t\u001b[0m\u001b[0;34m[\u001b[0m\u001b[0;34m:\u001b[0m\u001b[0;34m,\u001b[0m\u001b[0mt\u001b[0m\u001b[0;34m-\u001b[0m\u001b[0;36m1\u001b[0m\u001b[0;34m]\u001b[0m\u001b[0;34m\u001b[0m\u001b[0;34m\u001b[0m\u001b[0m\n\u001b[1;32m    121\u001b[0m \u001b[0;34m\u001b[0m\u001b[0m\n\u001b[0;32m--> 122\u001b[0;31m             \u001b[0mMt_Q\u001b[0m        \u001b[0;34m=\u001b[0m \u001b[0mnp\u001b[0m\u001b[0;34m.\u001b[0m\u001b[0msum\u001b[0m\u001b[0;34m(\u001b[0m\u001b[0mMt\u001b[0m\u001b[0;34m[\u001b[0m\u001b[0mQ_inds\u001b[0m\u001b[0;34m]\u001b[0m\u001b[0;34m)\u001b[0m\u001b[0;34m\u001b[0m\u001b[0;34m\u001b[0m\u001b[0m\n\u001b[0m\u001b[1;32m    123\u001b[0m             \u001b[0mMt_NQ\u001b[0m       \u001b[0;34m=\u001b[0m \u001b[0mnp\u001b[0m\u001b[0;34m.\u001b[0m\u001b[0msum\u001b[0m\u001b[0;34m(\u001b[0m\u001b[0mMt\u001b[0m\u001b[0;34m[\u001b[0m\u001b[0mNQ_inds\u001b[0m\u001b[0;34m]\u001b[0m\u001b[0;34m)\u001b[0m\u001b[0;34m\u001b[0m\u001b[0;34m\u001b[0m\u001b[0m\n\u001b[1;32m    124\u001b[0m \u001b[0;34m\u001b[0m\u001b[0m\n",
      "\u001b[0;31mIndexError\u001b[0m: index 15 is out of bounds for axis 0 with size 15"
     ]
    }
   ],
   "source": [
    "τ_list = np.arange(0., τ_max.value + τ_step.value, τ_step.value)\n",
    "Δ_list = np.arange(Δ_min.value, 1. + Δ_step.value, Δ_step.value)\n",
    "if slide_var.value == 1:\n",
    "    f = generate_plots(Δ.value, τ_list, test_sens, test_spec, ξ_base.value, A_rel.value, d_vaccine.value*14+3*14, \\\n",
    "                     rel_ρ.value, δ_param.value, ωR_param.value, π_D.value, \\\n",
    "                     R_0.value, rel_λ.value, initial_infect.value, slide_var.value)\n",
    "elif slide_var.value == 2:\n",
    "    f = generate_plots(Δ_list, τ.value, test_sens, test_spec, ξ_base.value, A_rel.value, d_vaccine.value*14+3*14, \\\n",
    "                     rel_ρ.value, δ_param.value, ωR_param.value, π_D.value, \\\n",
    "                     R_0.value, rel_λ.value, initial_infect.value, slide_var.value)\n",
    "    \n",
    "print(\"Done solving model.\")"
   ]
  },
  {
   "cell_type": "code",
   "execution_count": null,
   "metadata": {},
   "outputs": [],
   "source": [
    "f\n",
    "\n"
   ]
  },
  {
   "cell_type": "markdown",
   "metadata": {},
   "source": [
    "<p><center><span style=\"color:red\">1. No testing - Common quarantine, Red [dotted]</span> , <span style=\"color:blue\">2. Testing - Targeted quarantine: Blue [dashed]</span></center></p>"
   ]
  }
 ],
 "metadata": {
  "kernelspec": {
   "display_name": "Python 3",
   "language": "python",
   "name": "python3"
  },
  "language_info": {
   "codemirror_mode": {
    "name": "ipython",
    "version": 3
   },
   "file_extension": ".py",
   "mimetype": "text/x-python",
   "name": "python",
   "nbconvert_exporter": "python",
   "pygments_lexer": "ipython3",
   "version": "3.7.6"
  }
 },
 "nbformat": 4,
 "nbformat_minor": 2
}
